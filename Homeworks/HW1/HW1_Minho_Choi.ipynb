{
 "cells": [
  {
   "cell_type": "markdown",
   "metadata": {},
   "source": [
    "# 1. Project Warmup\n",
    "\n",
    "    (a) Siebel, Nils T., and Gerald Sommer. \"Evolutionary reinforcement learning of artificial neural networks.\" International Journal of Hybrid Intelligent Systems 4.3 (2007): 171-183.\n",
    "    (b) The main purpose of the model is to figure out the correct movement and posture of a robot arm to pick up an object in front of it. Only based on images, the model should find the correct inputs to give to the robot arm to grab the object firmly. Moreover, the model attempts to achieve the aim with low computation cost but not losing accuracy (fitness) by implementing evolution strategies.\n",
    "    (c) The model starts with minimal initial structure, so the modeler have to choose only one parameter, which is the number of inputs to each neuron in the neural network. In the paper, the authors choose each neuron to be connected to approximately 50 percent of inputs, where exact percentage and selection of inputs are random. A 'fitness' value is the variable that changes based on the parameters and is measured to evaluate the model's performance.\n",
    "    (d) As mentioned in the paper, the limitation of the model is that it assumes that the fitness value is affected only by the parameters. However, the model follows evolution strategy which involves randomness in mutation operators every generation. Hence, there may be other factors affecting the fitness value which may appear during many generations of evolution. In addition, the model is only tested for one viewing angle. The model is tested for different poses of the object, but the camera is viewing the object from the same angle (the camera is located right above the robot arm). In real life, the camera can be located in different places creating different viewing angle. Hence, the model is simplified to work only for one viewing angle."
   ]
  },
  {
   "cell_type": "markdown",
   "metadata": {},
   "source": [
    "# 2. Python / Notebook Tips and Tricks\n",
    "\n",
    "    * In iPython Notebook, the blocks can be moved using a mouse, and so the order of the blocks can be changed easily.\n",
    "    * In iPython Notebook, when a code block is ran there is a tiny line in the bottom part of the block that shows the time elapsed for running the codes in the block. Hence, we can get a grasp of how long the codes take to run.\n",
    "    * iPython Notebook can be ran through VsCode by following some easy installation steps. (I personally think it is easier to use Notebook using VsCode than through a browser.)\n",
    "    * In VsCode, if we type '#%%', then a code block is automatically created, and so we can run each code block separately when testing."
   ]
  },
  {
   "cell_type": "markdown",
   "metadata": {},
   "source": []
  }
 ],
 "metadata": {
  "kernelspec": {
   "display_name": "Python 3",
   "language": "python",
   "name": "python3"
  },
  "language_info": {
   "codemirror_mode": {
    "name": "ipython",
    "version": 3
   },
   "file_extension": ".py",
   "mimetype": "text/x-python",
   "name": "python",
   "nbconvert_exporter": "python",
   "pygments_lexer": "ipython3",
   "version": "3.11.5"
  },
  "orig_nbformat": 4
 },
 "nbformat": 4,
 "nbformat_minor": 2
}
