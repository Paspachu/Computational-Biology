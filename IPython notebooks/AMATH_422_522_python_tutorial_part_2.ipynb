{
 "cells": [
  {
   "cell_type": "markdown",
   "metadata": {},
   "source": [
    "# AMATH 422/522 Python Lab Manual, Part 2 "
   ]
  },
  {
   "cell_type": "markdown",
   "metadata": {},
   "source": [
    "This tutorial draws heavily on sources including:\n",
    "\n",
    "* The Allen Institute's superb Python Bootcamp, at https://github.com/AllenInstitute/SWDB_2019/tree/master/PythonBootcamp\n",
    "\n",
    "I strongly encourage you to visit the Allen's Python Bootcamp for much more -- including a general introduction to Python's fundamental data structures and objects!  Here we will focus on getting going fast with numerical computing.\n",
    "\n",
    "It is also draws on and translates much of the Lab Manual for our text -- Dynamic Models in Biology, by Ellner and Guckenheimer -- into Python.  That Lab Manual is available (in MATLAB and R) here.  Credits for this are:  *These notes for computer labs accompany our textbook {Dynamic Models in Biology} (Princeton University\n",
    "Press 2006). They are based in part on course materials \n",
    "by former TAs Colleen Webb, Jonathan Rowell and Daniel Fink at Cornell, \n",
    "Professors Lou Gross (University of Tennessee) and Paul Fackler (NC State University), and \n",
    "on the book \\textit{Getting Started with Matlab} by Rudra Pratap (Oxford University Press).* \n",
    "\n"
   ]
  },
  {
   "cell_type": "markdown",
   "metadata": {},
   "source": [
    "### Scipy"
   ]
  },
  {
   "cell_type": "markdown",
   "metadata": {},
   "source": [
    "We'll import our usual plotting and numpy packages, and also one more new one, scipy.  Scipy has many subpackages with very useful functionality.  Highlights include:\n",
    "\n",
    "\n",
    "<li>Integration and ODEs (scipy.integrate)\n",
    "<li>Interpolation (scipy.interpolate)\n",
    "<li>Input and output (scipy.io)\n",
    "<li><b>Linear algebra</b> (scipy.linalg)\n",
    "<li>Optimization and root finding (scipy.optimize)\n",
    "<li><b>Signal processing</b> (scipy.signal)\n",
    "<li>Sparse matrices (scipy.sparse)\n",
    "<li><b>Statistical functions</b> (scipy.stats)\n",
    "\n",
    "\n",
    "The common practice is to import these subpackages separately, with their own names.  We'll do that for the linalg and optimize functions here. "
   ]
  },
  {
   "cell_type": "code",
   "execution_count": 2,
   "metadata": {},
   "outputs": [],
   "source": [
    "import matplotlib.pylab as plt   # That gives plotting, and the next line makes plots appear inline in notebook\n",
    "%matplotlib inline  \n",
    "import numpy as np  # That gives numerical arrays and tools for manipulating them\n",
    "\n",
    "import scipy.optimize as opt\n",
    "import scipy.linalg as la"
   ]
  },
  {
   "cell_type": "markdown",
   "metadata": {},
   "source": [
    "#### Root finding.\n",
    "We'll use the brentq method scipy.optimize to find a function's roots:  that is, where it crosses zero.  This is an enhanced version of the most basic 'bisection' approach (adding interpolation), and likewise requires specifying an intial bracketing interval in which the root may lie.  \n",
    "\n",
    "There are many other root finding methods in scipy:  see documentation for scipy.optimize (https://docs.scipy.org/doc/scipy/reference/optimize.html)"
   ]
  },
  {
   "cell_type": "markdown",
   "metadata": {},
   "source": [
    "Let's test this out with a function with roots -1 and +1 "
   ]
  },
  {
   "cell_type": "code",
   "execution_count": 3,
   "metadata": {},
   "outputs": [],
   "source": [
    "def f(x):\n",
    "    return (x**2 - 1)"
   ]
  },
  {
   "cell_type": "code",
   "execution_count": 4,
   "metadata": {},
   "outputs": [
    {
     "data": {
      "text/plain": [
       "-1.0"
      ]
     },
     "execution_count": 4,
     "metadata": {},
     "output_type": "execute_result"
    }
   ],
   "source": [
    "#search for root between left_bracket and right_bracket\n",
    "left_bracket=-2\n",
    "right_bracket=0\n",
    "\n",
    "opt.brentq(f,left_bracket,right_bracket)"
   ]
  },
  {
   "cell_type": "markdown",
   "metadata": {},
   "source": [
    "### Basic linear algebra operations"
   ]
  },
  {
   "cell_type": "markdown",
   "metadata": {},
   "source": [
    "We use `eig` to return eigenvalues and eigenvectors.  Let's start with a super simple matrix B_mat"
   ]
  },
  {
   "cell_type": "code",
   "execution_count": 5,
   "metadata": {},
   "outputs": [
    {
     "name": "stdout",
     "output_type": "stream",
     "text": [
      "[[1 1]\n",
      " [0 2]]\n"
     ]
    }
   ],
   "source": [
    "B_mat=np.array([[1 ,1],[0 ,2 ]])\n",
    "print(B_mat)"
   ]
  },
  {
   "cell_type": "markdown",
   "metadata": {},
   "source": [
    "`eig` will return a 1-D array (list) of eigenvalues and a 2-D array, with (by default), the usual (right) eigenvectors as columns:"
   ]
  },
  {
   "cell_type": "code",
   "execution_count": 11,
   "metadata": {},
   "outputs": [
    {
     "name": "stdout",
     "output_type": "stream",
     "text": [
      "eigenvalue 1-D array= [1.+0.j 2.+0.j]\n",
      "eigenvector 2_D array\n",
      "[[1.         0.70710678]\n",
      " [0.         0.70710678]]\n"
     ]
    }
   ],
   "source": [
    "l, v = la.eig(B_mat)\n",
    "print('eigenvalue 1-D array=',l)\n",
    "print('eigenvector 2_D array')\n",
    "print(v)\n",
    "\n",
    "#help(la.eig)   #uncomment for more :)"
   ]
  },
  {
   "cell_type": "markdown",
   "metadata": {},
   "source": [
    "Note that python uses j for $\\sqrt{-1}$"
   ]
  },
  {
   "cell_type": "markdown",
   "metadata": {},
   "source": [
    "**Exercise:**  Check this by hand!"
   ]
  },
  {
   "cell_type": "markdown",
   "metadata": {},
   "source": [
    "Let's define our Leslie Matrix from class, and repeat these operations."
   ]
  },
  {
   "cell_type": "code",
   "execution_count": 16,
   "metadata": {},
   "outputs": [
    {
     "name": "stdout",
     "output_type": "stream",
     "text": [
      "[[0.   1.   5.  ]\n",
      " [0.5  0.   0.  ]\n",
      " [0.   0.25 0.  ]]\n",
      "eigenvalue 1-D array= [ 1.047+0.j    -0.524+0.568j -0.524-0.568j]\n",
      "eigenvector 2_D array\n",
      "[[ 0.898+0.j     0.827+0.j     0.827-0.j   ]\n",
      " [ 0.429+0.j    -0.363-0.393j -0.363+0.393j]\n",
      " [ 0.102+0.j    -0.014+0.173j -0.014-0.173j]]\n"
     ]
    }
   ],
   "source": [
    "A_mat=np.array([[0 ,1,5],[.5 ,0 ,0],[0 , .25 , 0]])\n",
    "print(A_mat)\n",
    "\n",
    "l, v = la.eig(A_mat)\n",
    "\n",
    "np.set_printoptions(precision=3, suppress=True)\n",
    "print('eigenvalue 1-D array=',l)\n",
    "print('eigenvector 2_D array')\n",
    "print(v)"
   ]
  },
  {
   "cell_type": "markdown",
   "metadata": {},
   "source": [
    "By default, these eigenvalues and eigenvectors are NOT sorted by the magnitude of eigenvalues.  Let's fix that, sorting from smallest (abs value) to largest!  See Tutorial 1 for a simple example and explanation of sorting.  "
   ]
  },
  {
   "cell_type": "code",
   "execution_count": 17,
   "metadata": {},
   "outputs": [
    {
     "name": "stdout",
     "output_type": "stream",
     "text": [
      "eigenvalue 1-D array, sorted= [-0.524+0.568j -0.524-0.568j  1.047+0.j   ]\n",
      "eigenvector 2_D array, sorted\n",
      "[[ 0.827+0.j     0.827-0.j     0.898+0.j   ]\n",
      " [-0.363-0.393j -0.363+0.393j  0.429+0.j   ]\n",
      " [-0.014+0.173j -0.014-0.173j  0.102+0.j   ]]\n",
      "(1.0472757407711641+0j)\n"
     ]
    }
   ],
   "source": [
    "# sorted eigenvalues and eigenvectors\n",
    "idx=np.argsort(np.abs(l))\n",
    "l_sorted=l[idx]  \n",
    "v_sorted=v[:,idx]   #rearrange eigenvectors in same order\n",
    "\n",
    "print('eigenvalue 1-D array, sorted=',l_sorted)\n",
    "print('eigenvector 2_D array, sorted')\n",
    "print(v_sorted)\n",
    "\n",
    "#return largest eigenvalue\n",
    "lambda_max= l_sorted[-1]\n",
    "print(lambda_max)"
   ]
  },
  {
   "cell_type": "markdown",
   "metadata": {},
   "source": [
    "#### Solving Matrix-Vector equations Ax=b "
   ]
  },
  {
   "cell_type": "markdown",
   "metadata": {},
   "source": [
    " This can be done with the solve function from `scipy.linalg'"
   ]
  },
  {
   "cell_type": "code",
   "execution_count": 18,
   "metadata": {
    "collapsed": false,
    "jupyter": {
     "outputs_hidden": false
    }
   },
   "outputs": [
    {
     "name": "stdout",
     "output_type": "stream",
     "text": [
      "[[1 1]\n",
      " [1 2]]\n",
      "[1 1]\n"
     ]
    },
    {
     "data": {
      "text/plain": [
       "array([1., 0.])"
      ]
     },
     "execution_count": 18,
     "metadata": {},
     "output_type": "execute_result"
    }
   ],
   "source": [
    "A_mat = np.array([[1,1],[1,2]])\n",
    "print(A_mat)\n",
    "b_arr = np.array([1,1])\n",
    "print(b_arr)\n",
    "\n",
    "x = la.solve(A_mat, b_arr)\n",
    "x"
   ]
  },
  {
   "cell_type": "markdown",
   "metadata": {},
   "source": [
    "Check our answer:  (also do this in your head or on paper!)"
   ]
  },
  {
   "cell_type": "code",
   "execution_count": 19,
   "metadata": {
    "collapsed": false,
    "jupyter": {
     "outputs_hidden": false
    }
   },
   "outputs": [
    {
     "data": {
      "text/plain": [
       "array([0., 0.])"
      ]
     },
     "execution_count": 19,
     "metadata": {},
     "output_type": "execute_result"
    }
   ],
   "source": [
    "np.dot(A_mat,x) - b_arr"
   ]
  }
 ],
 "metadata": {
  "kernelspec": {
   "display_name": "Python 3",
   "language": "python",
   "name": "python3"
  },
  "language_info": {
   "codemirror_mode": {
    "name": "ipython",
    "version": 3
   },
   "file_extension": ".py",
   "mimetype": "text/x-python",
   "name": "python",
   "nbconvert_exporter": "python",
   "pygments_lexer": "ipython3",
   "version": "3.8.3"
  }
 },
 "nbformat": 4,
 "nbformat_minor": 4
}
