{
 "cells": [
  {
   "cell_type": "markdown",
   "metadata": {},
   "source": [
    "# AMATH 422/522 Python Lab Manual, Part 3 "
   ]
  },
  {
   "cell_type": "markdown",
   "metadata": {},
   "source": [
    "This tutorial draws heavily on sources including:\n",
    "\n",
    "* The Allen Institute's superb Python Bootcamp, at https://github.com/AllenInstitute/SWDB_2019/tree/master/PythonBootcamp\n",
    "\n",
    "I strongly encourage you to visit the Allen's Python Bootcamp for much more -- including a general introduction to Python's fundamental data structures and objects!  Here we will focus on getting going fast with numerical computing.\n",
    "\n",
    "It is also draws on and translates much of the Lab Manual for our text -- Dynamic Models in Biology, by Ellner and Guckenheimer -- into Python.  That Lab Manual is available (in MATLAB and R) here.  Credits for this are:  *These notes for computer labs accompany our textbook {Dynamic Models in Biology} (Princeton University\n",
    "Press 2006). They are based in part on course materials \n",
    "by former TAs Colleen Webb, Jonathan Rowell and Daniel Fink at Cornell, \n",
    "Professors Lou Gross (University of Tennessee) and Paul Fackler (NC State University), and \n",
    "on the book \\textit{Getting Started with Matlab} by Rudra Pratap (Oxford University Press).* \n",
    "\n"
   ]
  },
  {
   "cell_type": "code",
   "execution_count": 1,
   "metadata": {
    "tags": []
   },
   "outputs": [],
   "source": [
    "import matplotlib.pylab as plt   # That gives plotting, and the next line makes plots appear inline in notebook\n",
    "%matplotlib inline  \n",
    "import numpy as np  # That gives numerical arrays and tools for manipulating them\n",
    "\n",
    "import scipy.optimize as opt\n",
    "import scipy.linalg as la"
   ]
  },
  {
   "cell_type": "markdown",
   "metadata": {},
   "source": [
    "### Initializing a random number generator"
   ]
  },
  {
   "cell_type": "markdown",
   "metadata": {},
   "source": [
    "First we need to initialize a random number GENERATOR (rng).  We do this by calling `default_rng` from the submodule (I think of this as a sub-package, or subfolder of functions) `random` within numpy.  \n",
    "\n",
    "* Note that we pass no argument.  This will draw a \"high entropy\" (unpredictable) seed from the operating system.\n"
   ]
  },
  {
   "cell_type": "code",
   "execution_count": 2,
   "metadata": {
    "tags": []
   },
   "outputs": [],
   "source": [
    "rng = np.random.default_rng()"
   ]
  },
  {
   "cell_type": "markdown",
   "metadata": {},
   "source": [
    "Now we're ready to go!  Let's generate an 1-D array of uniformly distributed random variables in the range [0,1), of length 10.  We use syntax `rng.uniform(left_limit,right_limit,length)`"
   ]
  },
  {
   "cell_type": "code",
   "execution_count": 11,
   "metadata": {
    "collapsed": true,
    "jupyter": {
     "outputs_hidden": true
    },
    "tags": []
   },
   "outputs": [
    {
     "name": "stdout",
     "output_type": "stream",
     "text": [
      "[0.10372777 0.2679119  0.50524445 0.15817771 0.04792612 0.18318688\n",
      " 0.23770867 0.49542536 0.12099009 0.5279429 ]\n"
     ]
    }
   ],
   "source": [
    "a = rng.uniform(0,1,10)\n",
    "print(a)"
   ]
  },
  {
   "cell_type": "markdown",
   "metadata": {},
   "source": [
    "Similar syntax for a 2-D array, or a higher-dimensional array as well!  We swap out the length with the size of the array, in round brackets (formally that is called a tuple in python).\n"
   ]
  },
  {
   "cell_type": "code",
   "execution_count": 12,
   "metadata": {
    "collapsed": true,
    "jupyter": {
     "outputs_hidden": true
    },
    "tags": []
   },
   "outputs": [
    {
     "name": "stdout",
     "output_type": "stream",
     "text": [
      "[[0.95605277 0.65401705 0.36732555]\n",
      " [0.68583518 0.68937156 0.47398517]\n",
      " [0.76273003 0.21204831 0.47109234]]\n"
     ]
    }
   ],
   "source": [
    "a = rng.uniform(0,1,(3,3))\n",
    "print(a)"
   ]
  },
  {
   "cell_type": "markdown",
   "metadata": {},
   "source": [
    "We are creating numpy arrays, as before and as expected!  We can confirm that using:"
   ]
  },
  {
   "cell_type": "code",
   "execution_count": 13,
   "metadata": {
    "collapsed": true,
    "jupyter": {
     "outputs_hidden": true
    },
    "tags": []
   },
   "outputs": [
    {
     "data": {
      "text/plain": [
       "numpy.ndarray"
      ]
     },
     "execution_count": 13,
     "metadata": {},
     "output_type": "execute_result"
    }
   ],
   "source": [
    "type(a)"
   ]
  },
  {
   "cell_type": "markdown",
   "metadata": {},
   "source": [
    "Similar syntax for a gaussian (normal) distribution, with mean mu, standard deviation sigma:  `rng.normal(mu,sigma,size)`"
   ]
  },
  {
   "cell_type": "code",
   "execution_count": 14,
   "metadata": {
    "collapsed": true,
    "jupyter": {
     "outputs_hidden": true
    },
    "tags": []
   },
   "outputs": [
    {
     "name": "stdout",
     "output_type": "stream",
     "text": [
      "[[-0.15309553  0.80540483 -0.38107906]\n",
      " [-1.76572195  0.35910612 -0.60555412]\n",
      " [ 2.42867494 -0.15994393  0.6232527 ]]\n"
     ]
    }
   ],
   "source": [
    "a = rng.normal(0,1,(3,3))\n",
    "print(a)"
   ]
  },
  {
   "cell_type": "markdown",
   "metadata": {},
   "source": [
    "### A note on seeds  \n",
    "Let's do this process again"
   ]
  },
  {
   "cell_type": "code",
   "execution_count": 15,
   "metadata": {
    "collapsed": true,
    "jupyter": {
     "outputs_hidden": true
    },
    "tags": []
   },
   "outputs": [
    {
     "name": "stdout",
     "output_type": "stream",
     "text": [
      "[0.62704049 0.71297718 0.38618287 0.14403751 0.69857764]\n"
     ]
    }
   ],
   "source": [
    "rng = np.random.default_rng()\n",
    "a = rng.uniform(0,1,5)\n",
    "print(a)"
   ]
  },
  {
   "cell_type": "markdown",
   "metadata": {},
   "source": [
    "And again, this time asking for two random arrays as well"
   ]
  },
  {
   "cell_type": "code",
   "execution_count": 16,
   "metadata": {
    "collapsed": true,
    "jupyter": {
     "outputs_hidden": true
    },
    "tags": []
   },
   "outputs": [
    {
     "name": "stdout",
     "output_type": "stream",
     "text": [
      "[0.07660326 0.64906561 0.70020883 0.43065947 0.23322174]\n",
      "[0.23305083 0.13329052 0.64221835 0.78872563 0.61605848]\n"
     ]
    }
   ],
   "source": [
    "rng = np.random.default_rng()\n",
    "a = rng.uniform(0,1,5)\n",
    "b = rng.uniform(0,1,5)\n",
    "print(a)\n",
    "print(b)"
   ]
  },
  {
   "cell_type": "markdown",
   "metadata": {},
   "source": [
    "Each time above get something different, as expected:  a new seed is drawn from the operating system when we make the rng, and then it keeps advancing as we call it.\n",
    "\n",
    "* But, what if we want to re-use a random sequence?  We specify the seed when making the rng, as an integer -- creating reproducible behavior.  Depending on your objectives, this can be good, or very bad!"
   ]
  },
  {
   "cell_type": "code",
   "execution_count": 17,
   "metadata": {
    "collapsed": true,
    "jupyter": {
     "outputs_hidden": true
    },
    "tags": []
   },
   "outputs": [
    {
     "name": "stdout",
     "output_type": "stream",
     "text": [
      "[0.78525311 0.78585936 0.96913602 0.74805977 0.65555081]\n"
     ]
    }
   ],
   "source": [
    "rng = np.random.default_rng(124)\n",
    "a = rng.uniform(0,1,5)\n",
    "print(a)"
   ]
  },
  {
   "cell_type": "code",
   "execution_count": 19,
   "metadata": {
    "collapsed": true,
    "jupyter": {
     "outputs_hidden": true
    },
    "tags": []
   },
   "outputs": [
    {
     "name": "stdout",
     "output_type": "stream",
     "text": [
      "[0.78525311 0.78585936 0.96913602 0.74805977 0.65555081]\n",
      "[0.93888454 0.17861445 0.58864721 0.44279917 0.34884712]\n",
      "[0.78525311 0.78585936 0.96913602 0.74805977 0.65555081]\n"
     ]
    }
   ],
   "source": [
    "rng = np.random.default_rng(124)\n",
    "a = rng.uniform(0,1,5)\n",
    "print(a)\n",
    "b = rng.uniform(0,1,5)\n",
    "print(b)\n",
    "rng = np.random.default_rng(124)\n",
    "c = rng.uniform(0,1,5)\n",
    "print(c)"
   ]
  },
  {
   "cell_type": "markdown",
   "metadata": {},
   "source": [
    "There are tons more distributions that can be sampled using our rng.  Check out the documentation ... https://numpy.org/doc/stable/reference/random/generator.html"
   ]
  },
  {
   "cell_type": "markdown",
   "metadata": {},
   "source": [
    "### Making and plotting a histogram of random variables"
   ]
  },
  {
   "cell_type": "code",
   "execution_count": 20,
   "metadata": {
    "collapsed": true,
    "jupyter": {
     "outputs_hidden": true
    },
    "tags": []
   },
   "outputs": [],
   "source": [
    "#First generate a fresh array of uniform random samples\n",
    "rng = np.random.default_rng()\n",
    "a = rng.uniform(0,1,50)"
   ]
  },
  {
   "cell_type": "markdown",
   "metadata": {},
   "source": [
    "Now we'll use the np.histogram command to bin these into `num_bins` bins.  This returns counts, an array of `num_bins` counts in each bin, and `bin_edges`, the edges of the bins, including the final right endpoint (hence this array is one longer)."
   ]
  },
  {
   "cell_type": "code",
   "execution_count": 21,
   "metadata": {
    "collapsed": true,
    "jupyter": {
     "outputs_hidden": true
    },
    "tags": []
   },
   "outputs": [
    {
     "name": "stdout",
     "output_type": "stream",
     "text": [
      "[6 9 4 6 2 3 6 3 3 8]\n",
      "(10,)\n",
      "[0.01591758 0.11165625 0.20739493 0.3031336  0.39887228 0.49461095\n",
      " 0.59034963 0.6860883  0.78182697 0.87756565 0.97330432]\n",
      "(11,)\n"
     ]
    }
   ],
   "source": [
    "num_bins=10  \n",
    "counts, bin_edges = np.histogram(a,num_bins)\n",
    "\n",
    "print(counts)\n",
    "print(counts.shape)\n",
    "print(bin_edges)\n",
    "print(bin_edges.shape)"
   ]
  },
  {
   "cell_type": "markdown",
   "metadata": {},
   "source": [
    "Let's plot this as a bar plot, making the resulting histogram"
   ]
  },
  {
   "cell_type": "code",
   "execution_count": 22,
   "metadata": {
    "collapsed": true,
    "jupyter": {
     "outputs_hidden": true
    },
    "tags": []
   },
   "outputs": [
    {
     "data": {
      "text/plain": [
       "Text(0.5, 0, 'bin centers')"
      ]
     },
     "execution_count": 22,
     "metadata": {},
     "output_type": "execute_result"
    },
    {
     "data": {
      "image/png": "[encoded data removed]",
      "text/plain": [
       "<Figure size 432x288 with 1 Axes>"
      ]
     },
     "metadata": {
      "needs_background": "light"
     },
     "output_type": "display_data"
    }
   ],
   "source": [
    "bin_centers=(bin_edges[0:-1]+bin_edges[1:])/2\n",
    "bin_width=bin_edges[1]-bin_edges[0]\n",
    "\n",
    "plt.bar(bin_centers,counts,width=bin_width)\n",
    "plt.ylabel('counts')\n",
    "plt.xlabel('bin centers')"
   ]
  },
  {
   "cell_type": "markdown",
   "metadata": {},
   "source": [
    "To turn this into a plot of proabilties of falling in to a certain bin, we need to divide by the total number of samples "
   ]
  },
  {
   "cell_type": "code",
   "execution_count": 23,
   "metadata": {
    "collapsed": true,
    "jupyter": {
     "outputs_hidden": true
    },
    "tags": []
   },
   "outputs": [
    {
     "data": {
      "text/plain": [
       "Text(0.5, 0, 'bin centers')"
      ]
     },
     "execution_count": 23,
     "metadata": {},
     "output_type": "execute_result"
    },
    {
     "data": {
      "image/png": "[encoded data removed]",
      "text/plain": [
       "<Figure size 432x288 with 1 Axes>"
      ]
     },
     "metadata": {
      "needs_background": "light"
     },
     "output_type": "display_data"
    }
   ],
   "source": [
    "num_samples=a.size\n",
    "prob_per_bin=counts/num_samples\n",
    "\n",
    "plt.bar(bin_centers,prob_per_bin,width=bin_width)\n",
    "plt.ylabel('prob_per_bin')\n",
    "plt.xlabel('bin centers')"
   ]
  },
  {
   "cell_type": "markdown",
   "metadata": {},
   "source": [
    "To turn this into a plot of proabilty **densities** -- so that it would make sense to integrate between two values on the horizontal axis -- we need to divide by the bin width.  We allow for the possibilitiy that the bin widths are unequal in the code below: "
   ]
  },
  {
   "cell_type": "code",
   "execution_count": 24,
   "metadata": {
    "collapsed": true,
    "jupyter": {
     "outputs_hidden": true
    },
    "tags": []
   },
   "outputs": [
    {
     "data": {
      "text/plain": [
       "Text(0.5, 0, 'bin centers')"
      ]
     },
     "execution_count": 24,
     "metadata": {},
     "output_type": "execute_result"
    },
    {
     "data": {
      "image/png": "[encoded data removed]",
      "text/plain": [
       "<Figure size 432x288 with 1 Axes>"
      ]
     },
     "metadata": {
      "needs_background": "light"
     },
     "output_type": "display_data"
    }
   ],
   "source": [
    "bin_width_arr=bin_edges[1:]-bin_edges[0:-1]\n",
    "density_calc=prob_per_bin/bin_width_arr\n",
    "\n",
    "plt.bar(bin_centers,prob_per_bin,width=bin_width)\n",
    "plt.ylabel('prob_density')\n",
    "plt.xlabel('bin centers')"
   ]
  },
  {
   "cell_type": "markdown",
   "metadata": {},
   "source": [
    "Now that we've reviewed all the underlying steps (not a bad practice, as it's easy to get confused as to what count-like quanties are what) -- we note that Numpy provides a one-liner that computes the corresponding densities as well!  Hit `help(np.histogram)` as usual for more."
   ]
  },
  {
   "cell_type": "code",
   "execution_count": 25,
   "metadata": {
    "collapsed": true,
    "jupyter": {
     "outputs_hidden": true
    },
    "tags": []
   },
   "outputs": [
    {
     "name": "stdout",
     "output_type": "stream",
     "text": [
      "[1.25341196 1.88011794 0.83560797 1.25341196 0.41780399 0.62670598\n",
      " 1.25341196 0.62670598 0.62670598 1.67121595]\n",
      "confirming that these match the values calculated in steps above\n",
      "[1.25341196 1.88011794 0.83560797 1.25341196 0.41780399 0.62670598\n",
      " 1.25341196 0.62670598 0.62670598 1.67121595]\n"
     ]
    }
   ],
   "source": [
    "densities, bin_edges = np.histogram(a,num_bins,density=True)\n",
    "\n",
    "print(densities)\n",
    "print('confirming that these match the values calculated in steps above')\n",
    "print(density_calc)\n",
    "\n"
   ]
  },
  {
   "cell_type": "markdown",
   "metadata": {},
   "source": [
    "### Legacy random number generators.  You may run into older syntax as well, like the below.\n",
    "\n",
    "This is provided for completeness.  Please see https://numpy.org/doc/stable/reference/random/legacy.html#numpy.random.RandomState for more. \n",
    "\n",
    "Unless you have to (e.g. adapting code for your project from that published elsewhere), please use the newer code above."
   ]
  },
  {
   "cell_type": "markdown",
   "metadata": {},
   "source": [
    "Generate an 1-D array of uniformly distributed random variables in the range [0,1), of the assigned length."
   ]
  },
  {
   "cell_type": "code",
   "execution_count": 177,
   "metadata": {
    "collapsed": true,
    "jupyter": {
     "outputs_hidden": true
    }
   },
   "outputs": [
    {
     "data": {
      "text/plain": [
       "array([0.57131913, 0.63317908, 0.37565772, 0.40288285, 0.08334177])"
      ]
     },
     "execution_count": 177,
     "metadata": {},
     "output_type": "execute_result"
    }
   ],
   "source": [
    "np.random.rand(5)"
   ]
  },
  {
   "cell_type": "markdown",
   "metadata": {},
   "source": [
    "Similar syntax for a 2-D array, or a higher-dimensional array as well!\n"
   ]
  },
  {
   "cell_type": "code",
   "execution_count": 178,
   "metadata": {
    "collapsed": true,
    "jupyter": {
     "outputs_hidden": true
    }
   },
   "outputs": [
    {
     "data": {
      "text/plain": [
       "array([[0.25054862, 0.50283825, 0.83386919],\n",
       "       [0.63288733, 0.42805103, 0.22210692],\n",
       "       [0.25414905, 0.97463858, 0.63102028]])"
      ]
     },
     "execution_count": 178,
     "metadata": {},
     "output_type": "execute_result"
    }
   ],
   "source": [
    "np.random.rand(3,3)"
   ]
  },
  {
   "cell_type": "markdown",
   "metadata": {},
   "source": [
    "And similar syntax usig `randn` for normally (gaussian) distributed random variables with mean 0 and variance 1."
   ]
  },
  {
   "cell_type": "code",
   "execution_count": 179,
   "metadata": {
    "collapsed": true,
    "jupyter": {
     "outputs_hidden": true
    }
   },
   "outputs": [
    {
     "data": {
      "text/plain": [
       "array([ 0.1796961 , -1.14711208, -0.64066535,  1.04748149,  0.70318756])"
      ]
     },
     "execution_count": 179,
     "metadata": {},
     "output_type": "execute_result"
    }
   ],
   "source": [
    "np.random.randn(5)"
   ]
  }
 ],
 "metadata": {
  "kernelspec": {
   "display_name": "Python 3 (ipykernel)",
   "language": "python",
   "name": "python3"
  },
  "language_info": {
   "codemirror_mode": {
    "name": "ipython",
    "version": 3
   },
   "file_extension": ".py",
   "mimetype": "text/x-python",
   "name": "python",
   "nbconvert_exporter": "python",
   "pygments_lexer": "ipython3",
   "version": "3.8.11"
  }
 },
 "nbformat": 4,
 "nbformat_minor": 4
}
